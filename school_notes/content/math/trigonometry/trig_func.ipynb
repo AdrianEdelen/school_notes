{
 "cells": [
  {
   "cell_type": "markdown",
   "metadata": {},
   "source": [
    "# trigonometric functions\n",
    "\n",
    "There are six trigonometric functions :\n",
    "\n",
    "- Sine      (sin)\n",
    "- Cosine    (cos)\n",
    "- Tangent   (tan)\n",
    "- Secant    (sec)\n",
    "- Cosecant  (csc)\n",
    "- Cotangent (cot)\n",
    "\n",
    "The functions are defined as ratios of sides of a triangle. That is to say, that given an angle θ (theta), a right angle triangle is constructed, the given function of the angle is a ratio of two of the sides of this triangle.\n"
   ]
  },
  {
   "cell_type": "code",
   "execution_count": null,
   "metadata": {
    "tags": [
     "remove-cell"
    ]
   },
   "outputs": [],
   "source": [
    "from manim import *\n",
    "config.media_embed = True"
   ]
  },
  {
   "cell_type": "code",
   "execution_count": null,
   "metadata": {
    "tags": [
     "remove-cell"
    ]
   },
   "outputs": [],
   "source": [
    "\n",
    "class DrawTrigTriangle(Scene):\n",
    "    def construct(self):\n",
    "        # Create the triangle\n",
    "        triangle = Polygon(\n",
    "            [0, 0, 0],         # Point A\n",
    "            [3, 0, 0],         # Point B\n",
    "            [3, 1.732, 0],     # Point C (sqrt(3) = approx. 1.732 for a 30-degree angle)\n",
    "            color=WHITE\n",
    "        )\n",
    "        theta_label = Text(\"θ = 30°\").next_to(triangle, UP).shift(LEFT * 3)\n",
    "\n",
    "        point_labels = [\n",
    "            Text(\"θ\").next_to(triangle.get_vertices()[0], DOWN),\n",
    "        ]\n",
    "        \n",
    "        #create the triangle itself\n",
    "        self.play(Create(triangle), Write(theta_label))\n",
    "        self.play(*[Write(label) for label in point_labels])\n",
    "\n",
    "        #create the line hilights\n",
    "        sine_line = Line(start=triangle.get_vertices()[2], end=triangle.get_vertices()[1], color=YELLOW)\n",
    "        sine_label = Text(\"sin(30°)\").next_to(sine_line, RIGHT)\n",
    "        self.play(Create(sine_line), Write(sine_label))\n",
    "\n",
    "        cosine_line = Line(start=triangle.get_vertices()[0], end=triangle.get_vertices()[1], color=BLUE)\n",
    "        cosine_label = Text(\"cos(30°)\").next_to(cosine_line, DOWN)\n",
    "        self.play(Create(cosine_line), Write(cosine_label))\n",
    "\n",
    "        tangent_line = Line(start=triangle.get_vertices()[0], end=triangle.get_vertices()[2], color=RED)\n",
    "        tangent_label = Text(\"tan(30°)\").next_to(tangent_line, LEFT)\n",
    "        self.play(Create(tangent_line), Write(tangent_label))\n",
    "\n",
    "        # Show final triangle with all trigonometric lines\n",
    "        self.wait(2)\n"
   ]
  },
  {
   "cell_type": "code",
   "execution_count": null,
   "metadata": {
    "tags": [
     "remove-input"
    ]
   },
   "outputs": [],
   "source": [
    "%manim -v WARNING  --progress_bar None -ql --disable_caching DrawTrigTriangle"
   ]
  }
 ],
 "metadata": {
  "language_info": {
   "name": "python"
  }
 },
 "nbformat": 4,
 "nbformat_minor": 2
}
