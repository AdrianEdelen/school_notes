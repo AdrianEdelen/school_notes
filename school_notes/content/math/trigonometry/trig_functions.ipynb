{
 "cells": [
  {
   "cell_type": "markdown",
   "metadata": {},
   "source": [
    "# trigonometric functions\n",
    "\n",
    "There are six trigonometric functions :\n",
    "\n",
    "- Sine      (sin)\n",
    "- Cosine    (cos)\n",
    "- Tangent   (tan)\n",
    "- Secant    (sec)\n",
    "- Cosecant  (csc)\n",
    "- Cotangent (cot)\n",
    "\n",
    "The functions are defined as ratios of sides of a triangle. That is to say, that given an angle θ (theta), a right angle triangle is constructed, the given function of the angle is a ratio of two of the sides of this triangle.\n"
   ]
  },
  {
   "cell_type": "code",
   "execution_count": null,
   "metadata": {
    "tags": [
     "remove-cell"
    ]
   },
   "outputs": [],
   "source": [
    "from manim import *\n",
    "config.media_embed = True"
   ]
  },
  {
   "cell_type": "code",
   "execution_count": null,
   "metadata": {
    "tags": [
     "remove-cell"
    ]
   },
   "outputs": [],
   "source": [
    "\n",
    "class DrawTrigTriangle(Scene):\n",
    "    def construct(self):\n",
    "        # Create the triangle\n",
    "        triangle = Polygon(\n",
    "            [0, 0, 0],         # Point A\n",
    "            [3, 0, 0],         # Point B\n",
    "            [3, 1.732, 0],     # Point C (sqrt(3) = approx. 1.732 for a 30-degree angle)\n",
    "            color=WHITE\n",
    "        )\n",
    "        triangle_center = triangle.get_center()\n",
    "        triangle.shift(-triangle_center)\n",
    "        theta_label = Text(\"θ = 30°\").next_to(triangle, UP).shift(LEFT * 3)\n",
    "        #theta_label = MathTex(r\"\\theta = 30^\\circ\").next_to(triangle, UP).shift(LEFT * 3)\n",
    "        \n",
    "\n",
    "        #create the angle indication\n",
    "        angle_arc = Arc(\n",
    "            radius=0.6,\n",
    "            start_angle=0,\n",
    "            angle=30 * DEGREES,\n",
    "            color=GREEN\n",
    "        ).move_arc_center_to(-triangle_center)\n",
    "\n",
    "\n",
    "        theta_label_2 = Text(\"θ = 30\").scale(0.5).next_to(angle_arc, RIGHT, buff=0.2).shift(UP * 0.1)\n",
    "        \n",
    "        \n",
    "\n",
    "        #create the line hilights\n",
    "        sine_line = Line(start=triangle.get_vertices()[2], end=triangle.get_vertices()[1], color=YELLOW)\n",
    "        sine_label = Text(\"sin(30°)\").scale(0.5).next_to(sine_line, RIGHT)\n",
    "\n",
    "        cosine_line = Line(start=triangle.get_vertices()[0], end=triangle.get_vertices()[1], color=BLUE)\n",
    "        cosine_label = Text(\"cos(30°)\").scale(0.5).next_to(cosine_line, DOWN)\n",
    "\n",
    "        tangent_line = Line(start=triangle.get_vertices()[0], end=triangle.get_vertices()[2], color=RED)\n",
    "        tangent_label = Text(\"tan(30°)\").scale(0.5).next_to(tangent_line, UP).shift(DOWN * 1).rotate(tangent_line.get_angle())\n",
    "        \n",
    "        \n",
    "        \n",
    "        self.play(Create(triangle), Write(theta_label), Create(angle_arc), Write(theta_label), Write(theta_label_2))\n",
    "        self.play(Create(sine_line), Write(sine_label))\n",
    "        self.play(Create(cosine_line), Write(cosine_label))\n",
    "        self.play(Create(tangent_line), Write(tangent_label))\n",
    "\n",
    "        # pause on the final image\n",
    "        self.wait(2)\n"
   ]
  },
  {
   "cell_type": "code",
   "execution_count": null,
   "metadata": {
    "tags": [
     "remove-input"
    ]
   },
   "outputs": [],
   "source": [
    "%manim -v WARNING  --progress_bar None -qh --disable_caching DrawTrigTriangle"
   ]
  },
  {
   "cell_type": "markdown",
   "metadata": {},
   "source": [
    "## Definitions of the Trigonometric Functions\n",
    "\n",
    "Given a right triangle:\n",
    "\n",
    "\n",
    "The functions of each of the six trigonometric functions can be defined as:\n",
    "| Trigonometric Functions| |\n",
    "| --- | ---  | \n",
    "| SIN | Y/R  |\n",
    "| COS | X/R  |\n",
    "| TAN | Y/X  |\n",
    "| CSC | R/Y  |\n",
    "| SEC | R/X  |\n",
    "| COT | X/Y  |\n",
    "\n",
    "```{note}\n",
    "$\\cot$ is $0$ when $\\tan$ is $undefined$  \n",
    "$\\cot$ is $undefined$ when $\\tan$ is $0$ [CHECK THIS]\n",
    "```"
   ]
  },
  {
   "cell_type": "markdown",
   "metadata": {},
   "source": [
    "### Creating the animation\n",
    "\n",
    "An example use case of the trigonometric functions is the creation of the above animation.\n",
    "Since the triangle is defined by a set of three points, we don't actually have a way to define the angle.\n",
    "we could just fake it but instead we use \n",
    "\n"
   ]
  }
 ],
 "metadata": {
  "language_info": {
   "name": "python"
  }
 },
 "nbformat": 4,
 "nbformat_minor": 2
}
